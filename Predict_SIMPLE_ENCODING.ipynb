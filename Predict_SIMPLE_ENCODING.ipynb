{
 "cells": [
  {
   "cell_type": "code",
   "execution_count": 1,
   "id": "dada93a6",
   "metadata": {},
   "outputs": [
    {
     "name": "stderr",
     "output_type": "stream",
     "text": [
      "2023-06-08 17:03:11.464470: I tensorflow/core/platform/cpu_feature_guard.cc:193] This TensorFlow binary is optimized with oneAPI Deep Neural Network Library (oneDNN) to use the following CPU instructions in performance-critical operations:  SSE4.1 SSE4.2 AVX AVX2 AVX_VNNI FMA\n",
      "To enable them in other operations, rebuild TensorFlow with the appropriate compiler flags.\n",
      "2023-06-08 17:03:11.499574: I tensorflow/core/util/util.cc:169] oneDNN custom operations are on. You may see slightly different numerical results due to floating-point round-off errors from different computation orders. To turn them off, set the environment variable `TF_ENABLE_ONEDNN_OPTS=0`.\n"
     ]
    }
   ],
   "source": [
    "import tensorflow as tf\n",
    "import os\n",
    "from model_simple_encoding import *"
   ]
  },
  {
   "cell_type": "code",
   "execution_count": 2,
   "id": "3d84e9ef",
   "metadata": {},
   "outputs": [],
   "source": [
    "import pickle\n",
    "with open(\"str_to_int\", \"rb\") as f:\n",
    "    str_to_int = pickle.load(f)\n",
    "\n",
    "with open(\"int_to_str\", \"rb\") as f:\n",
    "    int_to_str = pickle.load(f)\n",
    "    \n",
    "encode = lambda s: [str_to_int[c] for c in s]\n",
    "decode = lambda l: ''.join([int_to_str[i] for i in l])"
   ]
  },
  {
   "cell_type": "code",
   "execution_count": 3,
   "id": "082d0aa7",
   "metadata": {},
   "outputs": [
    {
     "name": "stderr",
     "output_type": "stream",
     "text": [
      "2023-06-08 17:03:12.380124: I tensorflow/stream_executor/cuda/cuda_gpu_executor.cc:980] successful NUMA node read from SysFS had negative value (-1), but there must be at least one NUMA node, so returning NUMA node zero\n",
      "2023-06-08 17:03:12.397579: I tensorflow/stream_executor/cuda/cuda_gpu_executor.cc:980] successful NUMA node read from SysFS had negative value (-1), but there must be at least one NUMA node, so returning NUMA node zero\n",
      "2023-06-08 17:03:12.397724: I tensorflow/stream_executor/cuda/cuda_gpu_executor.cc:980] successful NUMA node read from SysFS had negative value (-1), but there must be at least one NUMA node, so returning NUMA node zero\n",
      "2023-06-08 17:03:12.398725: I tensorflow/core/platform/cpu_feature_guard.cc:193] This TensorFlow binary is optimized with oneAPI Deep Neural Network Library (oneDNN) to use the following CPU instructions in performance-critical operations:  SSE4.1 SSE4.2 AVX AVX2 AVX_VNNI FMA\n",
      "To enable them in other operations, rebuild TensorFlow with the appropriate compiler flags.\n",
      "2023-06-08 17:03:12.401427: I tensorflow/stream_executor/cuda/cuda_gpu_executor.cc:980] successful NUMA node read from SysFS had negative value (-1), but there must be at least one NUMA node, so returning NUMA node zero\n",
      "2023-06-08 17:03:12.401547: I tensorflow/stream_executor/cuda/cuda_gpu_executor.cc:980] successful NUMA node read from SysFS had negative value (-1), but there must be at least one NUMA node, so returning NUMA node zero\n",
      "2023-06-08 17:03:12.401601: I tensorflow/stream_executor/cuda/cuda_gpu_executor.cc:980] successful NUMA node read from SysFS had negative value (-1), but there must be at least one NUMA node, so returning NUMA node zero\n",
      "2023-06-08 17:03:12.697568: I tensorflow/stream_executor/cuda/cuda_gpu_executor.cc:980] successful NUMA node read from SysFS had negative value (-1), but there must be at least one NUMA node, so returning NUMA node zero\n",
      "2023-06-08 17:03:12.697683: I tensorflow/stream_executor/cuda/cuda_gpu_executor.cc:980] successful NUMA node read from SysFS had negative value (-1), but there must be at least one NUMA node, so returning NUMA node zero\n",
      "2023-06-08 17:03:12.697736: I tensorflow/stream_executor/cuda/cuda_gpu_executor.cc:980] successful NUMA node read from SysFS had negative value (-1), but there must be at least one NUMA node, so returning NUMA node zero\n",
      "2023-06-08 17:03:12.697790: I tensorflow/core/common_runtime/gpu/gpu_device.cc:1616] Created device /job:localhost/replica:0/task:0/device:GPU:0 with 12481 MB memory:  -> device: 0, name: NVIDIA GeForce RTX 3080 Ti Laptop GPU, pci bus id: 0000:01:00.0, compute capability: 8.6\n"
     ]
    }
   ],
   "source": [
    "model = Multinomial_Model()"
   ]
  },
  {
   "cell_type": "code",
   "execution_count": 4,
   "id": "e406d978",
   "metadata": {},
   "outputs": [
    {
     "data": {
      "text/plain": [
       "<tensorflow.python.checkpoint.checkpoint.CheckpointLoadStatus at 0x7fd6972be4f0>"
      ]
     },
     "execution_count": 4,
     "metadata": {},
     "output_type": "execute_result"
    }
   ],
   "source": [
    "model.load_weights('./checkpoints/my_checkpoint_simple_encoding_epoch95')"
   ]
  },
  {
   "cell_type": "code",
   "execution_count": 5,
   "id": "6cd5b63a",
   "metadata": {},
   "outputs": [],
   "source": [
    "query =\"Wisdom is beautiful in the eyes of the weak\"\n",
    "encoded_query = encode(query)\n",
    "inp = tf.convert_to_tensor(encoded_query)\n",
    "inp = inp[tf.newaxis, :]\n",
    "inp"
   ]
  },
  {
   "cell_type": "code",
   "execution_count": 8,
   "id": "13a99afd",
   "metadata": {},
   "outputs": [
    {
     "name": "stderr",
     "output_type": "stream",
     "text": [
      "2023-06-08 14:49:01.497670: I tensorflow/stream_executor/cuda/cuda_dnn.cc:384] Loaded cuDNN version 8401\n",
      "2023-06-08 14:49:01.634900: I tensorflow/stream_executor/cuda/cuda_blas.cc:1614] TensorFloat-32 will be used for the matrix multiplication. This will only be logged once.\n"
     ]
    },
    {
     "name": "stdout",
     "output_type": "stream",
     "text": [
      "                                                                                                                                                                                                                                                               Wisdom is beautiful in the eyes of the weakness; and so the whole city would be one at all. And now cheat of a beautiful forms of government, full of variety and disorder, and did not assent and dispute our statement, can we may remember that nothing ourselves at tempers with one another.\n",
      "Yes; and I think that our principles are right, he said.\n",
      "But if they are to be courageous, must they not learn other lessons besides these, and let not do injure their own way. Now after they have asked him a person from earth company them, and rather t\n"
     ]
    }
   ],
   "source": [
    "print(decode(model.generate(inp, max_new_tokens=500)[0].numpy()))"
   ]
  },
  {
   "cell_type": "code",
   "execution_count": 11,
   "id": "ce58f59d",
   "metadata": {},
   "outputs": [
    {
     "data": {
      "text/plain": [
       "<tf.Tensor: shape=(1, 1), dtype=int32, numpy=array([[1]], dtype=int32)>"
      ]
     },
     "execution_count": 11,
     "metadata": {},
     "output_type": "execute_result"
    }
   ],
   "source": [
    "query =\" \"\n",
    "encoded_query = encode(query)\n",
    "inp = tf.convert_to_tensor(encoded_query)\n",
    "inp = inp[tf.newaxis, :]\n",
    "inp"
   ]
  },
  {
   "cell_type": "code",
   "execution_count": 13,
   "id": "1d65234d",
   "metadata": {},
   "outputs": [
    {
     "name": "stdout",
     "output_type": "stream",
     "text": [
      "                                                                                                                                                                                                                                                                wake at a time when he is seeking and his right; but not good education furnish to have made some we were quite right.\n",
      "Then let us finish the enquiry was confident enquire whether the just man should approve of justice and injustice, which we were mentioning, and so far well as hunger, might he not like the mere greater than the three is nothing more precious.\n",
      "And in some contrary way, that the excellence of the soul is more unjust than the life. And now that is what I have saying about men poets. And I take the question in the present rulers of State there is no longer ender that the just is always more advantageous; he must be able to say that one man will acquire a thing easily designate his assumption to a right to steer, he will be determined that the entire and to our friends to help, and not more than the other; and this, Glaucon, like all the rest, must proceed after an orderly fashion; in a city of the blessed, licentiousness is made or is stranged;—as the exotic seed which is\n"
     ]
    }
   ],
   "source": [
    "print(decode(model.generate(inp, max_new_tokens=1000)[0].numpy()))"
   ]
  },
  {
   "cell_type": "code",
   "execution_count": null,
   "id": "a6aacc2d",
   "metadata": {},
   "outputs": [],
   "source": []
  }
 ],
 "metadata": {
  "kernelspec": {
   "display_name": "Python 3 (ipykernel)",
   "language": "python",
   "name": "python3"
  },
  "language_info": {
   "codemirror_mode": {
    "name": "ipython",
    "version": 3
   },
   "file_extension": ".py",
   "mimetype": "text/x-python",
   "name": "python",
   "nbconvert_exporter": "python",
   "pygments_lexer": "ipython3",
   "version": "3.9.16"
  }
 },
 "nbformat": 4,
 "nbformat_minor": 5
}
